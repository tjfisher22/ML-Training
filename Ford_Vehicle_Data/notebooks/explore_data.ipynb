{
 "cells": [
  {
   "cell_type": "code",
   "execution_count": null,
   "id": "6d520ce4",
   "metadata": {},
   "outputs": [
    {
     "name": "stdout",
     "output_type": "stream",
     "text": [
      "t:\\Users\\tjfis\\Projects\\ML_Training\\Ford_Vehicle_Data\\notebooks\n",
      "[INFO]  Data folder ../data/raw/Sample-Data/Sample-Data already exists. Not creating.\n",
      "                Topics                         Types  Message Count  \\\n",
      "0                 /gps         sensor_msgs/NavSatFix           4896   \n",
      "1            /gps_time     sensor_msgs/TimeReference           4896   \n",
      "2    /image_front_left             sensor_msgs/Image            326   \n",
      "3                 /imu               sensor_msgs/Imu           4896   \n",
      "4     /lidar_blue_scan    velodyne_msgs/VelodyneScan            246   \n",
      "5    /lidar_green_scan    velodyne_msgs/VelodyneScan            246   \n",
      "6      /lidar_red_scan    velodyne_msgs/VelodyneScan            246   \n",
      "7   /lidar_yellow_scan    velodyne_msgs/VelodyneScan            245   \n",
      "8   /pose_ground_truth     geometry_msgs/PoseStamped           4858   \n",
      "9      /pose_localized     geometry_msgs/PoseStamped            539   \n",
      "10           /pose_raw     geometry_msgs/PoseStamped           4872   \n",
      "11                 /tf            tf2_msgs/TFMessage           4858   \n",
      "12       /velocity_raw  geometry_msgs/Vector3Stamped           4872   \n",
      "\n",
      "     Frequency  \n",
      "0   126.167248  \n",
      "1   126.167248  \n",
      "2    14.698496  \n",
      "3   126.167248  \n",
      "4     9.179354  \n",
      "5     9.133162  \n",
      "6     9.225875  \n",
      "7     9.132883  \n",
      "8   199.804878  \n",
      "9    19.998398  \n",
      "10  199.804878  \n",
      "11  199.804878  \n",
      "12  199.804878  \n"
     ]
    }
   ],
   "source": [
    "import pandas as pd\n",
    "from bagpy import bagreader\n",
    "\n",
    "b = bagreader(\"../data/raw/Sample-Data/Sample-Data.bag\")\n",
    "print(b.topic_table)"
   ]
  }
 ],
 "metadata": {
  "kernelspec": {
   "display_name": ".venv",
   "language": "python",
   "name": "python3"
  },
  "language_info": {
   "codemirror_mode": {
    "name": "ipython",
    "version": 3
   },
   "file_extension": ".py",
   "mimetype": "text/x-python",
   "name": "python",
   "nbconvert_exporter": "python",
   "pygments_lexer": "ipython3",
   "version": "3.12.0"
  }
 },
 "nbformat": 4,
 "nbformat_minor": 5
}
